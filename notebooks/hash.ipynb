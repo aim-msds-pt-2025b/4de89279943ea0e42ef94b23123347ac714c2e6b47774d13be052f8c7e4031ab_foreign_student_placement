{
 "cells": [
  {
   "cell_type": "code",
   "execution_count": 1,
   "id": "024357bb",
   "metadata": {},
   "outputs": [
    {
     "name": "stdout",
     "output_type": "stream",
     "text": [
      "4de89279943ea0e42ef94b23123347ac714c2e6b47774d13be052f8c7e4031ab\n"
     ]
    }
   ],
   "source": [
    "import hashlib\n",
    "student_number = \"2024-10127\"\n",
    "salt = \"MLOPS2025B\"\n",
    "hashed_value = hashlib.sha256((student_number +\n",
    "salt).encode()).hexdigest()\n",
    "print(hashed_value)"
   ]
  },
  {
   "cell_type": "code",
   "execution_count": null,
   "id": "ca373205",
   "metadata": {},
   "outputs": [],
   "source": []
  }
 ],
 "metadata": {
  "kernelspec": {
   "display_name": "uv",
   "language": "python",
   "name": "python3"
  },
  "language_info": {
   "codemirror_mode": {
    "name": "ipython",
    "version": 3
   },
   "file_extension": ".py",
   "mimetype": "text/x-python",
   "name": "python",
   "nbconvert_exporter": "python",
   "pygments_lexer": "ipython3",
   "version": "3.12.1"
  }
 },
 "nbformat": 4,
 "nbformat_minor": 5
}
